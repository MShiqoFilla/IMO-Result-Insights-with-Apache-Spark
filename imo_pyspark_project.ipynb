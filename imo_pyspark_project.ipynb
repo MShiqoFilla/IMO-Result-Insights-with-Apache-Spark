{
 "cells": [
  {
   "cell_type": "markdown",
   "metadata": {},
   "source": [
    "# IMO Result Insights with Apache Spark"
   ]
  },
  {
   "cell_type": "markdown",
   "metadata": {},
   "source": [
    "The goal of this project is to get some insights or information of the all time results of International Mathematics Olympiad (IMO) from some favorite countries (in this case I choose 15, they are: Australia, Bulgaria, Canada, China, Germany, Hungary, India, Indonesia, Iran, Japan, Korea, Romania, Russia, Thailand, United States) by doing some queries using PySpark, the Apache Spark API for Python. Firstly I will do some web scrape task to get data from the official website of IMO, and then store them as Spark dataframe.\n",
    "\n",
    "This project is also aimed to showcase my familiarity in using data processing tool, in this case PySpark in order to solve some analytical and data engineering problems.\n"
   ]
  },
  {
   "cell_type": "code",
   "execution_count": 1,
   "metadata": {},
   "outputs": [],
   "source": [
    "#Import some libraries needed for web scrapping (Beautifulsoup) and PySpark\n",
    "\n",
    "from bs4 import BeautifulSoup\n",
    "from urllib.request import urlopen, Request\n",
    "import requests\n",
    "from pyspark.sql import SparkSession\n",
    "from pyspark.sql.types import *\n",
    "from pyspark.sql.functions import *\n",
    "import os\n",
    "import sys\n",
    "\n",
    "os.environ['PYSPARK_PYTHON'] = sys.executable\n",
    "os.environ['PYSPARK_DRIVER_PYTHON'] = sys.executable\n",
    "\n",
    "header = {\n",
    "    'User-Agent':'Mozilla/5.0 (Windows NT 10.0/; Win64; x64) AppleWebKit/537.36 (KHTML, like Gecko) Chrome/113.0.0.0 Safari/537.36'\n",
    "}\n"
   ]
  },
  {
   "cell_type": "code",
   "execution_count": 3,
   "metadata": {},
   "outputs": [],
   "source": [
    "# Iniate a spark session\n",
    "\n",
    "spark = SparkSession.builder\\\n",
    "            .appName('IMO_Spark')\\\n",
    "            .master('local')\\\n",
    "            .config('spark.driver.memory', '5G')\\\n",
    "            .getOrCreate()"
   ]
  },
  {
   "cell_type": "code",
   "execution_count": 4,
   "metadata": {},
   "outputs": [
    {
     "data": {
      "text/html": [
       "\n",
       "            <div>\n",
       "                <p><b>SparkSession - in-memory</b></p>\n",
       "                \n",
       "        <div>\n",
       "            <p><b>SparkContext</b></p>\n",
       "\n",
       "            <p><a href=\"http://host.docker.internal:4040\">Spark UI</a></p>\n",
       "\n",
       "            <dl>\n",
       "              <dt>Version</dt>\n",
       "                <dd><code>v3.5.1</code></dd>\n",
       "              <dt>Master</dt>\n",
       "                <dd><code>local</code></dd>\n",
       "              <dt>AppName</dt>\n",
       "                <dd><code>IMO_Spark</code></dd>\n",
       "            </dl>\n",
       "        </div>\n",
       "        \n",
       "            </div>\n",
       "        "
      ],
      "text/plain": [
       "<pyspark.sql.session.SparkSession at 0x2e4d9a007d0>"
      ]
     },
     "execution_count": 4,
     "metadata": {},
     "output_type": "execute_result"
    }
   ],
   "source": [
    "spark"
   ]
  },
  {
   "cell_type": "code",
   "execution_count": 5,
   "metadata": {},
   "outputs": [
    {
     "name": "stdout",
     "output_type": "stream",
     "text": [
      "AUS REQUEST STATUS: 200 https://www.imo-official.org/country_individual_r.aspx?code=AUS AUS is DONE!\n"
     ]
    },
    {
     "name": "stderr",
     "output_type": "stream",
     "text": [
      "C:\\Users\\Lenovo\\AppData\\Local\\Temp\\ipykernel_8688\\666444661.py:10: XMLParsedAsHTMLWarning: It looks like you're parsing an XML document using an HTML parser. If this really is an HTML document (maybe it's XHTML?), you can ignore or filter this warning. If it's XML, you should know that using an XML parser will be more reliable. To parse this document as XML, make sure you have the lxml package installed, and pass the keyword argument `features=\"xml\"` into the BeautifulSoup constructor.\n",
      "  soup = BeautifulSoup(req_imo.text)\n"
     ]
    },
    {
     "name": "stdout",
     "output_type": "stream",
     "text": [
      "BGR REQUEST STATUS: 200 https://www.imo-official.org/country_individual_r.aspx?code=BGR BGR is DONE!\n",
      "CAN REQUEST STATUS: 200 https://www.imo-official.org/country_individual_r.aspx?code=CAN CAN is DONE!\n",
      "CHN REQUEST STATUS: 200 https://www.imo-official.org/country_individual_r.aspx?code=CHN CHN is DONE!\n",
      "GER REQUEST STATUS: 200 https://www.imo-official.org/country_individual_r.aspx?code=GER GER is DONE!\n",
      "USA REQUEST STATUS: 200 https://www.imo-official.org/country_individual_r.aspx?code=USA USA is DONE!\n",
      "JPN REQUEST STATUS: 200 https://www.imo-official.org/country_individual_r.aspx?code=JPN JPN is DONE!\n",
      "KOR REQUEST STATUS: 200 https://www.imo-official.org/country_individual_r.aspx?code=KOR KOR is DONE!\n",
      "ROU REQUEST STATUS: 200 https://www.imo-official.org/country_individual_r.aspx?code=ROU ROU is DONE!\n",
      "IRN REQUEST STATUS: 200 https://www.imo-official.org/country_individual_r.aspx?code=IRN IRN is DONE!\n",
      "IDN REQUEST STATUS: 200 https://www.imo-official.org/country_individual_r.aspx?code=IDN IDN is DONE!\n",
      "RUS REQUEST STATUS: 200 https://www.imo-official.org/country_individual_r.aspx?code=RUS RUS is DONE!\n",
      "HUN REQUEST STATUS: 200 https://www.imo-official.org/country_individual_r.aspx?code=HUN HUN is DONE!\n",
      "IND REQUEST STATUS: 200 https://www.imo-official.org/country_individual_r.aspx?code=IND IND is DONE!\n",
      "THA REQUEST STATUS: 200 https://www.imo-official.org/country_individual_r.aspx?code=THA THA is DONE!\n"
     ]
    }
   ],
   "source": [
    "#Web scraping part, here the tuple of data is appended into an empty list 'contestants'\n",
    "#as you can see we only care with IMO results data from these 15 countries, due to a long time needed to send request to the webpage\n",
    "#The 'contestants' list later is going to be rows of spark dataframe\n",
    "\n",
    "contestants = []\n",
    "#'THA', 'IRN', 'GER', 'AUS', 'POL'\n",
    "negara = ['AUS', 'BGR', 'CAN', 'CHN', 'GER', 'USA', 'JPN', 'KOR', 'ROU', 'IRN', 'IDN', 'RUS', 'HUN', 'IND', 'THA']\n",
    "\n",
    "for c in negara:\n",
    "    imo_link = f'https://www.imo-official.org/country_individual_r.aspx?code={c}'\n",
    "    req_imo = requests.get(imo_link)\n",
    "    print(c, 'REQUEST STATUS:', req_imo.status_code, imo_link, end=' ')\n",
    "\n",
    "    soup = BeautifulSoup(req_imo.text)\n",
    "\n",
    "\n",
    "    country_details = soup.find('h2').find_all('a')[1]\n",
    "    country = country_details.getText()\n",
    "    country_code = country_details['href'][-3:]\n",
    "\n",
    "    tabel = soup.find('table').find('tbody').find_all('tr')\n",
    "    for i in range(len(tabel)):\n",
    "        #id_contestant = tabel[i].find_all('td')[1].find('a')['href'].split('=')[-1]\n",
    "        name = tabel[i].find_all('td')[1].getText()\n",
    "        year_participation = int(tabel[i].find_all('td')[0].getText())\n",
    "        try:\n",
    "            points = [int(tabel[i].find_all('td')[j].getText()) for j in range(2, 8)]\n",
    "        except ValueError:\n",
    "            points = [None for j in range(6)]\n",
    "        total_points = int(tabel[i].find_all('td')[9].getText())\n",
    "        abs_rank = int(tabel[i].find_all('td')[10].getText())\n",
    "        rel_rank = float(tabel[i].find_all('td')[11].getText()[:-1])\n",
    "        prize =  tabel[i].find_all('td')[12].getText()\n",
    "\n",
    "        data = tuple([#id_contestant, \n",
    "                    name, country_code, country, year_participation, \n",
    "                    points[0], points[1], points[2], points[3], points[4], points[5],\n",
    "                    total_points, abs_rank, rel_rank, prize])\n",
    "        contestants.append(data)\n",
    "    print(f'{c} is DONE!')"
   ]
  },
  {
   "cell_type": "code",
   "execution_count": 6,
   "metadata": {},
   "outputs": [],
   "source": [
    "#We define the schema structure of the table, it is much like creating an ordinary table in SQL\n",
    "\n",
    "schema = StructType([\n",
    "                     StructField('name', StringType(), False),\n",
    "                     StructField('country_code', StringType(), False),\n",
    "                     StructField('country', StringType(), False),\n",
    "                     StructField('year', IntegerType(), False),\n",
    "                     StructField('p1', IntegerType(), True),\n",
    "                     StructField('p2', IntegerType(), True),\n",
    "                     StructField('p3', IntegerType(), True),\n",
    "                     StructField('p4', IntegerType(), True),\n",
    "                     StructField('p5', IntegerType(), True),\n",
    "                     StructField('p6', IntegerType(), True),\n",
    "                     StructField('total', IntegerType(), False),\n",
    "                     StructField('abs_rank', IntegerType(), False),\n",
    "                     StructField('rel_rank(%)', FloatType(), False),\n",
    "                     StructField('prize', StringType(), False)\n",
    "                     ])\n",
    "\n",
    "header = ['id', 'name', 'country_code', 'country', 'year',\n",
    "          'p1', 'p2', 'p3', 'p4', 'p5', 'p6', 'total', \n",
    "          'abs_rank', 'rel_rank(%)', 'prize']\n",
    "df = spark.createDataFrame(contestants, schema=schema)"
   ]
  },
  {
   "cell_type": "code",
   "execution_count": 7,
   "metadata": {},
   "outputs": [
    {
     "name": "stdout",
     "output_type": "stream",
     "text": [
      "root\n",
      " |-- name: string (nullable = false)\n",
      " |-- country_code: string (nullable = false)\n",
      " |-- country: string (nullable = false)\n",
      " |-- year: integer (nullable = false)\n",
      " |-- p1: integer (nullable = true)\n",
      " |-- p2: integer (nullable = true)\n",
      " |-- p3: integer (nullable = true)\n",
      " |-- p4: integer (nullable = true)\n",
      " |-- p5: integer (nullable = true)\n",
      " |-- p6: integer (nullable = true)\n",
      " |-- total: integer (nullable = false)\n",
      " |-- abs_rank: integer (nullable = false)\n",
      " |-- rel_rank(%): float (nullable = false)\n",
      " |-- prize: string (nullable = false)\n",
      "\n"
     ]
    }
   ],
   "source": [
    "#to show schema of the df table\n",
    "df.printSchema()"
   ]
  },
  {
   "cell_type": "code",
   "execution_count": 8,
   "metadata": {},
   "outputs": [
    {
     "name": "stdout",
     "output_type": "stream",
     "text": [
      "+--------------------+------------+---------+----+---+---+---+---+---+---+-----+--------+-----------+------------------+\n",
      "|                name|country_code|  country|year| p1| p2| p3| p4| p5| p6|total|abs_rank|rel_rank(%)|             prize|\n",
      "+--------------------+------------+---------+----+---+---+---+---+---+---+-----+--------+-----------+------------------+\n",
      "|       William Cheah|         AUS|Australia|2024|  7|  7|  2|  7|  1|  0|   24|     100|      83.72|      Silver medal|\n",
      "|            Amber Li|         AUS|Australia|2024|  2|  2|  0|  7|  0|  0|   11|     425|      30.26|Honourable mention|\n",
      "|Xiangyue (Laura) Nan|         AUS|Australia|2024|  7|  7|  1|  7|  7|  1|   30|      29|      95.39|        Gold medal|\n",
      "|            Alex Qiu|         AUS|Australia|2024|  7|  1|  0|  7|  0|  0|   15|     327|      46.38|Honourable mention|\n",
      "|           Cloris Xu|         AUS|Australia|2024|  7|  2|  0|  7|  1|  0|   17|     252|      58.72|      Bronze medal|\n",
      "|             Iris Xu|         AUS|Australia|2024|  7|  2|  0|  7|  0|  0|   16|     283|      53.62|      Bronze medal|\n",
      "|       William Cheah|         AUS|Australia|2023|  7|  7|  4|  7|  3|  2|   30|      71|      88.65|      Silver medal|\n",
      "|           Sizhe Pan|         AUS|Australia|2023|  7|  7|  0|  7|  2|  0|   23|     183|       70.5|      Bronze medal|\n",
      "|          Zian Shang|         AUS|Australia|2023|  7|  7|  7|  7|  7|  0|   35|      28|      95.62|        Gold medal|\n",
      "|    Christopher Tran|         AUS|Australia|2023|  7|  7|  1|  7|  3|  2|   27|     119|      80.88|      Silver medal|\n",
      "|           Cloris Xu|         AUS|Australia|2023|  7|  7|  1|  7|  2|  0|   24|     145|      76.66|      Bronze medal|\n",
      "|             Iris Xu|         AUS|Australia|2023|  7|  3|  0|  1|  2|  0|   13|     407|       34.2|Honourable mention|\n",
      "|       William Cheah|         AUS|Australia|2022|  7|  7|  0|  7|  7|  0|   28|     146|      75.34|      Bronze medal|\n",
      "|           Sizhe Pan|         AUS|Australia|2022|  7|  7|  1|  7|  5|  0|   27|     187|      68.37|      Bronze medal|\n",
      "|          Zian Shang|         AUS|Australia|2022|  7|  7|  0|  7|  7|  0|   28|     146|      75.34|      Bronze medal|\n",
      "|    Christopher Tran|         AUS|Australia|2022|  7|  7|  0|  7|  6|  0|   27|     187|      68.37|      Bronze medal|\n",
      "|     Tony Yuzheng Wu|         AUS|Australia|2022|  7|  7|  2|  7|  7|  4|   34|      38|      93.71|        Gold medal|\n",
      "|          Grace Yuan|         AUS|Australia|2022|  2|  7|  0|  7|  2|  0|   18|     343|      41.84|Honourable mention|\n",
      "|Andres David Buri...|         AUS|Australia|2021|  7|  0|  0|  7|  7|  3|   24|      48|      92.39|        Gold medal|\n",
      "|           Jason Chi|         AUS|Australia|2021|  6|  1|  0|  7|  0|  0|   14|     218|      64.89|      Bronze medal|\n",
      "+--------------------+------------+---------+----+---+---+---+---+---+---+-----+--------+-----------+------------------+\n",
      "only showing top 20 rows\n",
      "\n"
     ]
    }
   ],
   "source": [
    "#Here is the peek of table containing the records of IMO contestant results, \n",
    "#it provide their names, countries, the points scored for each problems and the prize the received\n",
    "\n",
    "df.show()"
   ]
  },
  {
   "cell_type": "markdown",
   "metadata": {},
   "source": [
    "## Basic informations about participant countries"
   ]
  },
  {
   "cell_type": "code",
   "execution_count": 9,
   "metadata": {},
   "outputs": [
    {
     "name": "stdout",
     "output_type": "stream",
     "text": [
      "+------------+--------------------------+----------------+-----------+-----------------+-------------------+\n",
      "|country_code|country                   |first_appearance|appearances|total_contingents|unique_participants|\n",
      "+------------+--------------------------+----------------+-----------+-----------------+-------------------+\n",
      "|BGR         |Bulgaria                  |1959            |65         |432              |279                |\n",
      "|ROU         |Romania                   |1959            |65         |428              |237                |\n",
      "|HUN         |Hungary                   |1959            |64         |420              |272                |\n",
      "|USA         |United States of America  |1974            |50         |312              |213                |\n",
      "|GER         |Germany                   |1977            |47         |288              |183                |\n",
      "|AUS         |Australia                 |1981            |44         |264              |185                |\n",
      "|CAN         |Canada                    |1981            |44         |264              |166                |\n",
      "|CHN         |People's Republic of China|1985            |39         |230              |215                |\n",
      "|IRN         |Islamic Republic of Iran  |1985            |39         |229              |205                |\n",
      "|KOR         |Republic of Korea         |1988            |37         |222              |161                |\n",
      "|IDN         |Indonesia                 |1988            |36         |212              |156                |\n",
      "|THA         |Thailand                  |1989            |36         |216              |141                |\n",
      "|IND         |India                     |1989            |35         |210              |145                |\n",
      "|JPN         |Japan                     |1990            |35         |210              |138                |\n",
      "|RUS         |Russian Federation        |1992            |30         |180              |142                |\n",
      "+------------+--------------------------+----------------+-----------+-----------------+-------------------+\n",
      "\n"
     ]
    }
   ],
   "source": [
    "df.groupBy('country_code')\\\n",
    "  .agg(first(\"country\").alias('country'),\n",
    "       min('year').alias('first_appearance'),\n",
    "       countDistinct('year').alias('appearances'),\n",
    "       count('*').alias('total_contingents'), \n",
    "       countDistinct('name').alias('unique_participants'))\\\n",
    "  .orderBy(col('first_appearance').asc(), \n",
    "           col('appearances').desc())\\\n",
    "  .show(truncate = False)"
   ]
  },
  {
   "cell_type": "markdown",
   "metadata": {},
   "source": [
    "## Countries medal tally of all-time IMO"
   ]
  },
  {
   "cell_type": "code",
   "execution_count": 10,
   "metadata": {},
   "outputs": [
    {
     "name": "stdout",
     "output_type": "stream",
     "text": [
      "+------------+--------------------------+----+------+------+---+\n",
      "|country_code|country                   |Gold|Silver|Bronze|HM |\n",
      "+------------+--------------------------+----+------+------+---+\n",
      "|CHN         |People's Republic of China|185 |37    |6     |0  |\n",
      "|USA         |United States of America  |151 |120   |30    |1  |\n",
      "|RUS         |Russian Federation        |106 |62    |12    |0  |\n",
      "|KOR         |Republic of Korea         |95  |83    |28    |7  |\n",
      "|HUN         |Hungary                   |88  |174   |116   |14 |\n",
      "|ROU         |Romania                   |86  |158   |111   |13 |\n",
      "|BGR         |Bulgaria                  |57  |130   |121   |19 |\n",
      "|GER         |Germany                   |54  |114   |91    |16 |\n",
      "|IRN         |Islamic Republic of Iran  |51  |113   |50    |5  |\n",
      "|JPN         |Japan                     |48  |98    |52    |6  |\n",
      "|CAN         |Canada                    |42  |71    |97    |21 |\n",
      "|THA         |Thailand                  |34  |70    |53    |26 |\n",
      "|AUS         |Australia                 |29  |78    |102   |21 |\n",
      "|IND         |India                     |20  |74    |79    |29 |\n",
      "|IDN         |Indonesia                 |6   |30    |61    |37 |\n",
      "+------------+--------------------------+----+------+------+---+\n",
      "\n"
     ]
    }
   ],
   "source": [
    "df.groupBy('country_code')\\\n",
    "  .agg(\n",
    "       first('country').alias('country'),\n",
    "       count(when(col('prize')\\\n",
    "                  .like('Gold%'), 1)).alias('Gold'),\n",
    "       count(when(col('prize')\\\n",
    "                  .like('Silver%'), 1)).alias('Silver'),\n",
    "       count(when(col('prize')\\\n",
    "                  .like('Bronze%'), 1)).alias('Bronze'),\n",
    "       count(when(col('prize')\\\n",
    "                  .like('Honour%'), 1)).alias('HM'))\\\n",
    "  .orderBy(col('Gold').desc())\\\n",
    "  .show(truncate=False)"
   ]
  },
  {
   "cell_type": "markdown",
   "metadata": {},
   "source": [
    "## Some of best performers of all-time IMO"
   ]
  },
  {
   "cell_type": "code",
   "execution_count": 11,
   "metadata": {},
   "outputs": [
    {
     "name": "stdout",
     "output_type": "stream",
     "text": [
      "+--------------------+-------+-----------+---------+----+------+------+---+\n",
      "|name                |country|appearances|last_year|Gold|Silver|Bronze|HM |\n",
      "+--------------------+-------+-----------+---------+----+------+------+---+\n",
      "|Zhuo Qun (Alex) Song|CAN    |6          |2015     |5   |0     |1     |0  |\n",
      "|Lisa Sauermann      |GER    |5          |2011     |4   |1     |0     |0  |\n",
      "|Nipun Pitimanaaree  |THA    |5          |2013     |4   |1     |0     |0  |\n",
      "|Christian Reiher    |GER    |5          |2003     |4   |0     |1     |0  |\n",
      "|Eric Shen           |CAN    |4          |2023     |4   |0     |0     |0  |\n",
      "|Luke Robitaille     |USA    |4          |2022     |4   |0     |0     |0  |\n",
      "|Reid Barton         |USA    |4          |2001     |4   |0     |0     |0  |\n",
      "|Martin Härterich    |GER    |5          |1989     |3   |1     |1     |0  |\n",
      "|József Pelikán      |HUN    |4          |1966     |3   |1     |0     |0  |\n",
      "|Ivan Ivanov         |BGR    |4          |1998     |3   |1     |0     |0  |\n",
      "|Pranjal Srivastava  |IND    |4          |2022     |3   |1     |0     |0  |\n",
      "|Peter Scholze       |GER    |4          |2007     |3   |1     |0     |0  |\n",
      "|Kentaro Nagao       |JPN    |4          |2000     |3   |1     |0     |0  |\n",
      "|László Lovász       |HUN    |4          |1966     |3   |1     |0     |0  |\n",
      "|Nikolay Nikolov     |BGR    |4          |1995     |3   |1     |0     |0  |\n",
      "+--------------------+-------+-----------+---------+----+------+------+---+\n",
      "only showing top 15 rows\n",
      "\n"
     ]
    }
   ],
   "source": [
    "df.groupBy('name')\\\n",
    "  .agg(\n",
    "       first(\"country_code\").alias(\"country\"), \n",
    "       count('*').alias('appearances'),\n",
    "       max('year').alias('last_year'),\n",
    "       count(when(col('prize')\\\n",
    "                  .like('Gold%'), 1)).alias('Gold'),\n",
    "       count(when(col('prize')\\\n",
    "                  .like('Silver%'), 1)).alias('Silver'),\n",
    "       count(when(col('prize')\\\n",
    "                  .like('Bronze%'), 1)).alias('Bronze'),\n",
    "       count(when(col('prize')\\\n",
    "                  .like('Honour%'), 1)).alias('HM'))\\\n",
    "  .filter(col('appearances')>3)\\\n",
    "  .orderBy(col('Gold').desc(), col('Silver').desc(), \n",
    "           col('Bronze').desc(), col('HM').desc())\\\n",
    "  .show(15, False)"
   ]
  },
  {
   "cell_type": "markdown",
   "metadata": {},
   "source": [
    "## Countries with most participants who got perfect score (42)"
   ]
  },
  {
   "cell_type": "code",
   "execution_count": 12,
   "metadata": {},
   "outputs": [
    {
     "name": "stdout",
     "output_type": "stream",
     "text": [
      "+------------+--------------------------+--------------------------+\n",
      "|country_code|country                   |perfect_score_participants|\n",
      "+------------+--------------------------+--------------------------+\n",
      "|CHN         |People's Republic of China|47                        |\n",
      "|USA         |United States of America  |25                        |\n",
      "|ROU         |Romania                   |18                        |\n",
      "|GER         |Germany                   |13                        |\n",
      "|RUS         |Russian Federation        |11                        |\n",
      "|HUN         |Hungary                   |10                        |\n",
      "|BGR         |Bulgaria                  |8                         |\n",
      "|KOR         |Republic of Korea         |6                         |\n",
      "|CAN         |Canada                    |5                         |\n",
      "|IRN         |Islamic Republic of Iran  |4                         |\n",
      "|JPN         |Japan                     |4                         |\n",
      "|AUS         |Australia                 |1                         |\n",
      "|IDN         |Indonesia                 |0                         |\n",
      "|IND         |India                     |0                         |\n",
      "|THA         |Thailand                  |0                         |\n",
      "+------------+--------------------------+--------------------------+\n",
      "\n"
     ]
    }
   ],
   "source": [
    "df.groupBy('country_code')\\\n",
    "    .agg(first('country').alias('country'),\n",
    "         count(when(df['total']==42, 1))\\\n",
    "          .alias('perfect_score_participants'))\\\n",
    "    .orderBy(col('perfect_score_participants').desc())\\\n",
    "    .show(truncate = False)"
   ]
  },
  {
   "cell_type": "markdown",
   "metadata": {},
   "source": [
    "## Countries medal tally of IMO 2024"
   ]
  },
  {
   "cell_type": "code",
   "execution_count": 13,
   "metadata": {},
   "outputs": [
    {
     "name": "stdout",
     "output_type": "stream",
     "text": [
      "+------------+--------------------------+----+----+------+------+---+\n",
      "|country_code|country                   |year|Gold|Silver|Bronze|HM |\n",
      "+------------+--------------------------+----+----+------+------+---+\n",
      "|CHN         |People's Republic of China|2024|5   |1     |0     |0  |\n",
      "|USA         |United States of America  |2024|5   |1     |0     |0  |\n",
      "|IND         |India                     |2024|4   |1     |0     |1  |\n",
      "|KOR         |Republic of Korea         |2024|2   |4     |0     |0  |\n",
      "|HUN         |Hungary                   |2024|2   |3     |1     |0  |\n",
      "|JPN         |Japan                     |2024|2   |2     |1     |1  |\n",
      "|ROU         |Romania                   |2024|1   |4     |1     |0  |\n",
      "|IRN         |Islamic Republic of Iran  |2024|1   |3     |1     |1  |\n",
      "|AUS         |Australia                 |2024|1   |1     |2     |2  |\n",
      "|IDN         |Indonesia                 |2024|1   |0     |3     |2  |\n",
      "|CAN         |Canada                    |2024|0   |4     |1     |1  |\n",
      "|BGR         |Bulgaria                  |2024|0   |3     |2     |1  |\n",
      "|THA         |Thailand                  |2024|0   |3     |1     |2  |\n",
      "|GER         |Germany                   |2024|0   |2     |4     |0  |\n",
      "|RUS         |Russian Federation        |2021|0   |0     |0     |0  |\n",
      "+------------+--------------------------+----+----+------+------+---+\n",
      "\n"
     ]
    }
   ],
   "source": [
    "df.groupBy('country_code')\\\n",
    "  .agg(\n",
    "       first('country').alias('country'),\n",
    "       first('year').alias('year'),\n",
    "       count(when((col('prize').like('Gold%')) \n",
    "                  & (col('year')==2024), 1)).alias('Gold'),\n",
    "       count(when((col('prize').like('Silver%')) \n",
    "                  & (col('year')==2024), 1)).alias('Silver'),\n",
    "       count(when((col('prize').like('Bronze%')) \n",
    "                  & (col('year')==2024), 1)).alias('Bronze'),\n",
    "       count(when((col('prize').like('Honour%')) \n",
    "                  & (col('year')==2024), 1)).alias('HM')\n",
    "       )\\\n",
    "  .orderBy(col('Gold').desc(), col('Silver').desc(), \n",
    "           col('Bronze').desc(), col('HM').desc())\\\n",
    "  .show(truncate=False)"
   ]
  },
  {
   "cell_type": "markdown",
   "metadata": {},
   "source": [
    "## Countries overall score for each problems of IMO 2024"
   ]
  },
  {
   "cell_type": "code",
   "execution_count": 14,
   "metadata": {},
   "outputs": [
    {
     "name": "stdout",
     "output_type": "stream",
     "text": [
      "+------------+----+---+---+---+---+---+---+---------------+\n",
      "|country_code|year|P1 |P2 |P3 |P4 |P5 |P6 |2024_team_score|\n",
      "+------------+----+---+---+---+---+---+---+---------------+\n",
      "|USA         |2024|42 |41 |19 |40 |35 |15 |192            |\n",
      "|CHN         |2024|42 |42 |31 |40 |22 |13 |190            |\n",
      "|KOR         |2024|42 |37 |18 |42 |7  |22 |168            |\n",
      "|IND         |2024|42 |34 |11 |42 |28 |10 |167            |\n",
      "|HUN         |2024|42 |37 |16 |36 |23 |1  |155            |\n",
      "|ROU         |2024|39 |42 |2  |39 |14 |9  |145            |\n",
      "|JPN         |2024|42 |30 |4  |35 |21 |11 |143            |\n",
      "|IRN         |2024|40 |30 |2  |42 |16 |7  |137            |\n",
      "|CAN         |2024|37 |23 |8  |42 |11 |10 |131            |\n",
      "|BGR         |2024|42 |15 |4  |42 |20 |3  |126            |\n",
      "|GER         |2024|40 |27 |2  |32 |19 |0  |120            |\n",
      "|THA         |2024|38 |32 |1  |35 |8  |2  |116            |\n",
      "|AUS         |2024|37 |21 |3  |42 |9  |1  |113            |\n",
      "|IDN         |2024|42 |17 |0  |42 |9  |1  |111            |\n",
      "+------------+----+---+---+---+---+---+---+---------------+\n",
      "\n"
     ]
    }
   ],
   "source": [
    "df.groupBy('country_code')\\\n",
    "  .agg(\n",
    "       first('year').alias('year'),\n",
    "       sum(when(col('year')==2024, df['p1'])).alias('P1'),\n",
    "       sum(when(col('year')==2024, df['p2'])).alias('P2'),\n",
    "       sum(when(col('year')==2024, df['p3'])).alias('P3'),\n",
    "       sum(when(col('year')==2024, df['p4'])).alias('P4'),\n",
    "       sum(when(col('year')==2024, df['p5'])).alias('P5'),\n",
    "       sum(when(col('year')==2024, df['p6'])).alias('P6'),\n",
    "       sum(when(col('year')==2024, \n",
    "                df['total'])).alias('2024_team_score'))\\\n",
    "  .filter(col('year')==2024)\\\n",
    "  .orderBy(col('2024_team_score').desc())\\\n",
    "  .show(truncate=False)"
   ]
  },
  {
   "cell_type": "markdown",
   "metadata": {},
   "source": [
    "## Some of top gold medallist of IMO 2024"
   ]
  },
  {
   "cell_type": "code",
   "execution_count": 15,
   "metadata": {},
   "outputs": [
    {
     "name": "stdout",
     "output_type": "stream",
     "text": [
      "+------------------------------+------------+----+--------+-----+----------+\n",
      "|name                          |country_code|year|abs_rank|total|prize     |\n",
      "+------------------------------+------------+----+--------+-----+----------+\n",
      "|Haojia Shi                    |CHN         |2024|1       |42   |Gold medal|\n",
      "|Alexander Wang                |USA         |2024|3       |38   |Gold medal|\n",
      "|Satoshi Kano                  |JPN         |2024|4       |37   |Gold medal|\n",
      "|Qiming Xu                     |CHN         |2024|5       |35   |Gold medal|\n",
      "|Jessica Wan                   |USA         |2024|5       |35   |Gold medal|\n",
      "|Hyeongjoe Chu                 |KOR         |2024|5       |35   |Gold medal|\n",
      "|László Bence Simon            |HUN         |2024|5       |35   |Gold medal|\n",
      "|Adhitya Mangudy Venkata Ganesh|IND         |2024|5       |35   |Gold medal|\n",
      "|Linus Tang                    |USA         |2024|14      |32   |Gold medal|\n",
      "|Ananda Bhaduri                |IND         |2024|14      |32   |Gold medal|\n",
      "|Krishna Pothapragada          |USA         |2024|19      |31   |Gold medal|\n",
      "|Kanav Talwar                  |IND         |2024|19      |31   |Gold medal|\n",
      "|Xiangyue (Laura) Nan          |AUS         |2024|29      |30   |Gold medal|\n",
      "|Zhewen Deng                   |CHN         |2024|29      |30   |Gold medal|\n",
      "|Chunji Wang                   |CHN         |2024|29      |30   |Gold medal|\n",
      "+------------------------------+------------+----+--------+-----+----------+\n",
      "only showing top 15 rows\n",
      "\n"
     ]
    }
   ],
   "source": [
    "df.filter((df['prize'] == 'Gold medal') & \n",
    "          (df['year'] == 2024))\\\n",
    "    .select('name', 'country_code', 'year',\n",
    "            'abs_rank', 'total', 'prize')\\\n",
    "    .orderBy('abs_rank')\\\n",
    "    .show(15, truncate = False)"
   ]
  },
  {
   "cell_type": "markdown",
   "metadata": {},
   "source": [
    "## Indonesian team results for last 15 years"
   ]
  },
  {
   "cell_type": "code",
   "execution_count": 16,
   "metadata": {},
   "outputs": [
    {
     "name": "stdout",
     "output_type": "stream",
     "text": [
      "+----+----------------+----+------+------+---+\n",
      "|year|IDN_participants|Gold|Silver|Bronze| HM|\n",
      "+----+----------------+----+------+------+---+\n",
      "|2024|               6|   1|     0|     3|  2|\n",
      "|2023|               6|   0|     1|     3|  2|\n",
      "|2022|               6|   0|     1|     4|  1|\n",
      "|2021|               6|   0|     2|     4|  0|\n",
      "|2020|               6|   2|     0|     2|  2|\n",
      "|2019|               6|   1|     4|     1|  0|\n",
      "|2018|               6|   1|     5|     0|  0|\n",
      "|2017|               6|   0|     2|     3|  1|\n",
      "|2016|               6|   0|     3|     3|  0|\n",
      "|2015|               6|   0|     2|     4|  0|\n",
      "|2014|               6|   0|     2|     3|  1|\n",
      "|2013|               6|   1|     1|     4|  0|\n",
      "|2012|               6|   0|     1|     3|  1|\n",
      "|2011|               6|   0|     2|     4|  0|\n",
      "|2010|               6|   0|     1|     4|  1|\n",
      "+----+----------------+----+------+------+---+\n",
      "\n"
     ]
    }
   ],
   "source": [
    "df.groupBy('year')\\\n",
    "  .agg(count(when(df['country_code']=='IDN', 1))\\\n",
    "               .alias('IDN_participants'),\n",
    "       count(when((col('prize').like('Gold%')) \n",
    "                  & (df['country_code']=='IDN'), 1)).alias('Gold'),\n",
    "       count(when((col('prize').like('Silver%')) \n",
    "                  & (df['country_code']=='IDN'), 1)).alias('Silver'),\n",
    "       count(when((col('prize').like('Bronze%')) \n",
    "                  & (df['country_code']=='IDN'), 1)).alias('Bronze'),\n",
    "       count(when((col('prize').like('Honour%')) \n",
    "                  & (df['country_code']=='IDN'), 1)).alias('HM')\n",
    "       )\\\n",
    "  .filter(col('IDN_participants')>0)\\\n",
    "  .orderBy(col('year').desc())\\\n",
    "  .limit(15)\\\n",
    "  .show()"
   ]
  },
  {
   "cell_type": "markdown",
   "metadata": {},
   "source": [
    "## Indonesian top scorers of all-time IMO"
   ]
  },
  {
   "cell_type": "code",
   "execution_count": 17,
   "metadata": {},
   "outputs": [
    {
     "name": "stdout",
     "output_type": "stream",
     "text": [
      "+-----------------------------------+------------+----+-----+------------+\n",
      "|name                               |country_code|year|total|prize       |\n",
      "+-----------------------------------+------------+----+-----+------------+\n",
      "|Stephen Sanjaya                    |IDN         |2013|35   |Gold medal  |\n",
      "|Aaron Alvarado Kristanto Julistiono|IDN         |2020|33   |Gold medal  |\n",
      "|Stanve Avrilium Widjaja            |IDN         |2020|33   |Gold medal  |\n",
      "|Rafael Kristoforus Yanto           |IDN         |2022|32   |Silver medal|\n",
      "|Kinantan Arya Bagaspati            |IDN         |2019|32   |Gold medal  |\n",
      "|Gian Cordana Sanjaya               |IDN         |2018|31   |Gold medal  |\n",
      "|Rafael Kristoforus Yanto           |IDN         |2023|29   |Silver medal|\n",
      "|Kevin Adi Senjaya                  |IDN         |2024|29   |Gold medal  |\n",
      "|Farras Mohammad Hibban Faddila     |IDN         |2018|29   |Silver medal|\n",
      "|Kinantan Arya Bagaspati            |IDN         |2018|29   |Silver medal|\n",
      "|Alfian Edgar Tjandra               |IDN         |2018|29   |Silver medal|\n",
      "|Valentino Dante Tjowasi            |IDN         |2018|28   |Silver medal|\n",
      "|Jonathan Christian Nitisastro      |IDN         |2019|28   |Silver medal|\n",
      "|Fransisca Susan                    |IDN         |2013|28   |Silver medal|\n",
      "|Sandy Kristian Waluyo              |IDN         |2022|28   |Bronze medal|\n",
      "+-----------------------------------+------------+----+-----+------------+\n",
      "only showing top 15 rows\n",
      "\n"
     ]
    }
   ],
   "source": [
    "df.select('name', 'country_code', 'year',\n",
    "          'total', 'prize')\\\n",
    "    .filter((df['country_code']=='IDN'))\\\n",
    "    .orderBy(df['total'].desc())\\\n",
    "    .show(15, truncate = False)"
   ]
  },
  {
   "cell_type": "markdown",
   "metadata": {},
   "source": [
    "## Indonesians with most IMO medals"
   ]
  },
  {
   "cell_type": "code",
   "execution_count": 18,
   "metadata": {},
   "outputs": [
    {
     "name": "stdout",
     "output_type": "stream",
     "text": [
      "+-----------------------+-------+----+---------+---------+----+------+------+---+\n",
      "|name                   |country|apps|sum_score|last_year|Gold|Silver|Bronze|HM |\n",
      "+-----------------------+-------+----+---------+---------+----+------+------+---+\n",
      "|Kinantan Arya Bagaspati|IDN    |3   |79       |2019     |1   |1     |1     |0  |\n",
      "|Gian Cordana Sanjaya   |IDN    |3   |70       |2018     |1   |1     |1     |0  |\n",
      "|Fransisca Susan        |IDN    |3   |67       |2014     |0   |1     |2     |0  |\n",
      "|Stefanus Lie           |IDN    |3   |59       |2012     |0   |1     |2     |0  |\n",
      "|Ahmad Zaky             |IDN    |3   |57       |2012     |0   |1     |2     |0  |\n",
      "|Tobi Moektijono        |IDN    |3   |57       |2012     |0   |0     |3     |0  |\n",
      "|Farrel Dwireswara Salim|IDN    |3   |53       |2021     |0   |0     |3     |0  |\n",
      "|Fajar Yuliawan         |IDN    |3   |32       |2003     |0   |0     |2     |0  |\n",
      "+-----------------------+-------+----+---------+---------+----+------+------+---+\n",
      "\n"
     ]
    }
   ],
   "source": [
    "df.groupBy('name')\\\n",
    "  .agg(\n",
    "       first(\"country_code\").alias(\"country\"), \n",
    "       count('*').alias('apps'),\n",
    "       sum('total').alias('sum_score'),\n",
    "       max('year').alias('last_year'),\n",
    "       count(when(col('prize')\\\n",
    "                  .like('Gold%'), 1)).alias('Gold'),\n",
    "       count(when(col('prize')\\\n",
    "                  .like('Silver%'), 1)).alias('Silver'),\n",
    "       count(when(col('prize')\\\n",
    "                  .like('Bronze%'), 1)).alias('Bronze'),\n",
    "       count(when(col('prize')\\\n",
    "                  .like('Honour%'), 1)).alias('HM')\n",
    "       )\\\n",
    "  .filter((col('apps')>2) & \n",
    "          (col('country')=='IDN') )\\\n",
    "  .orderBy(col('Gold').desc(), col('Silver').desc(), \n",
    "           col('Bronze').desc(), col('HM').desc(), \n",
    "           col('sum_score').desc())\\\n",
    "  .show(20, False)\n",
    "  "
   ]
  },
  {
   "cell_type": "code",
   "execution_count": null,
   "metadata": {},
   "outputs": [],
   "source": []
  }
 ],
 "metadata": {
  "kernelspec": {
   "display_name": "Python 3",
   "language": "python",
   "name": "python3"
  },
  "language_info": {
   "codemirror_mode": {
    "name": "ipython",
    "version": 3
   },
   "file_extension": ".py",
   "mimetype": "text/x-python",
   "name": "python",
   "nbconvert_exporter": "python",
   "pygments_lexer": "ipython3",
   "version": "3.11.1"
  }
 },
 "nbformat": 4,
 "nbformat_minor": 2
}
